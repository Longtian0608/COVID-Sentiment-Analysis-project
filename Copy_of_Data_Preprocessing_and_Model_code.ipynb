{
  "nbformat": 4,
  "nbformat_minor": 0,
  "metadata": {
    "colab": {
      "provenance": [],
      "machine_shape": "hm"
    },
    "kernelspec": {
      "name": "python3",
      "display_name": "Python 3"
    },
    "language_info": {
      "name": "python"
    },
    "gpuClass": "standard"
  },
  "cells": [
    {
      "cell_type": "markdown",
      "source": [
        "#importing"
      ],
      "metadata": {
        "id": "4EPndDc5KRk6"
      }
    },
    {
      "cell_type": "code",
      "execution_count": null,
      "metadata": {
        "colab": {
          "base_uri": "https://localhost:8080/"
        },
        "id": "LhnkURJMKE08",
        "outputId": "97f497c1-9007-40a9-9e7a-f1789c769f50"
      },
      "outputs": [
        {
          "output_type": "stream",
          "name": "stderr",
          "text": [
            "[nltk_data] Downloading package stopwords to /root/nltk_data...\n",
            "[nltk_data]   Package stopwords is already up-to-date!\n"
          ]
        }
      ],
      "source": [
        "import os\n",
        "import string\n",
        "import numpy as np\n",
        "import pandas as pd\n",
        "import nltk\n",
        "nltk.download('stopwords')\n",
        "from nltk.corpus import stopwords\n",
        "import re\n",
        "\n",
        "import gensim \n",
        "import logging\n",
        "from gensim.test.utils import common_texts\n",
        "from gensim.models import KeyedVectors"
      ]
    },
    {
      "cell_type": "code",
      "source": [
        "from google.colab import drive\n",
        "drive.mount('/content/gdrive')"
      ],
      "metadata": {
        "colab": {
          "base_uri": "https://localhost:8080/"
        },
        "id": "ljG3_vHxKNxk",
        "outputId": "24d4ff36-6c1a-45a3-ab96-69a5bc322174"
      },
      "execution_count": null,
      "outputs": [
        {
          "output_type": "stream",
          "name": "stdout",
          "text": [
            "Drive already mounted at /content/gdrive; to attempt to forcibly remount, call drive.mount(\"/content/gdrive\", force_remount=True).\n"
          ]
        }
      ]
    },
    {
      "cell_type": "markdown",
      "source": [
        "#Functions\n",
        "\n"
      ],
      "metadata": {
        "id": "G4YtlaGHKUIk"
      }
    },
    {
      "cell_type": "markdown",
      "source": [
        "##pre-process"
      ],
      "metadata": {
        "id": "mj6DzMIjLAaD"
      }
    },
    {
      "cell_type": "code",
      "source": [
        "from nltk.stem.porter import PorterStemmer\n",
        "\n",
        "def tokenize(line, dix=None, stopwords=None, stem=False):\n",
        "    line = re.sub(\"@\\S+|https?:\\S+|http?:\\S|[^A-Za-z0-9]+\", ' ', line.lower().strip()) \n",
        "    tokens = line.split()\n",
        "    #print(tokens)\n",
        "\n",
        "    if dix:\n",
        "        #tokens = [dix[word] if word in dix else word for word in tokens]\n",
        "        temp = []\n",
        "        for word in tokens:\n",
        "            if word in dix:\n",
        "                sublist = dix[word].split()\n",
        "                for element in sublist:\n",
        "                    temp.append(element)\n",
        "            else:\n",
        "                temp.append(word)\n",
        "        tokens = temp\n",
        "\n",
        "    if stopwords:\n",
        "        tokens = [word for word in tokens if word not in stopwords]\n",
        "\n",
        "    if stem:\n",
        "      ps = PorterStemmer()\n",
        "      tokens = [ps.stem(word) for word in tokens]\n",
        "    \n",
        "    #remove punctuations\n",
        "    #translator = str.maketrans(dict.fromkeys(string.punctuation))\n",
        "    #tokens = [word.translate(translator) for word in tokens]\n",
        "    return tokens"
      ],
      "metadata": {
        "id": "fmNhyy2tKVYR"
      },
      "execution_count": null,
      "outputs": []
    },
    {
      "cell_type": "code",
      "source": [
        "def vocab_to_dict(vocab, slangdix=None):\n",
        "    dix1 = {}\n",
        "    dix2 = {}\n",
        "    if slangdix is None:\n",
        "        slangs = []\n",
        "    else:\n",
        "      slangs = slangdix.keys()\n",
        "    i = 0\n",
        "    for word in vocab:\n",
        "        if word not in dix1:\n",
        "            if word in slangs:\n",
        "                origin = slangdix[word]\n",
        "                if origin in dix1:\n",
        "                    dix1[word] = dix1[origin]\n",
        "                    \n",
        "                else:\n",
        "                    dix1[word] = i\n",
        "                    dix1[origin] = i\n",
        "                    dix2[i] = origin\n",
        "                    i += 1\n",
        "            else:\n",
        "                dix1[word] = i\n",
        "                dix2[i] = word\n",
        "                i += 1\n",
        "    return dix1, dix2\n"
      ],
      "metadata": {
        "id": "pOBcYRLAKpeC"
      },
      "execution_count": null,
      "outputs": []
    },
    {
      "cell_type": "markdown",
      "source": [
        "# data"
      ],
      "metadata": {
        "id": "rv2iiEu5KvkI"
      }
    },
    {
      "cell_type": "code",
      "source": [
        "names = ['label','ids','date','noquery','username','text']\n",
        "train_data = pd.read_csv('/content/gdrive/MyDrive/Colab Notebooks/training.1600000.processed.noemoticon.csv', encoding = 'latin-1', names = names)"
      ],
      "metadata": {
        "id": "WSol7AJmVV6I"
      },
      "execution_count": null,
      "outputs": []
    },
    {
      "cell_type": "code",
      "source": [
        "train_data = train_data.drop('noquery', 1)"
      ],
      "metadata": {
        "colab": {
          "base_uri": "https://localhost:8080/"
        },
        "id": "4CBqDjW1Urs-",
        "outputId": "e79134f1-d9af-4510-9dfb-15c1374d61b6"
      },
      "execution_count": null,
      "outputs": [
        {
          "output_type": "stream",
          "name": "stderr",
          "text": [
            "/usr/local/lib/python3.7/dist-packages/ipykernel_launcher.py:1: FutureWarning: In a future version of pandas all arguments of DataFrame.drop except for the argument 'labels' will be keyword-only\n",
            "  \"\"\"Entry point for launching an IPython kernel.\n"
          ]
        }
      ]
    },
    {
      "cell_type": "code",
      "source": [
        "train_data.head(5)"
      ],
      "metadata": {
        "id": "pCYP7kxWVvXV"
      },
      "execution_count": null,
      "outputs": []
    },
    {
      "cell_type": "code",
      "source": [
        "keep = ['just', 'too', 'very', 'no', 'not', 'nor', 'should']\n",
        "stopwords = stopwords.words('english')\n",
        "for word in keep:\n",
        "  stopwords.remove(word)"
      ],
      "metadata": {
        "id": "ggUMy_xDV01D"
      },
      "execution_count": null,
      "outputs": []
    },
    {
      "cell_type": "code",
      "source": [
        "train_data['clean'] = train_data.apply(lambda x:  tokenize(x['text'], dix=None, stopwords=stopwords, stem=True), axis=1)"
      ],
      "metadata": {
        "id": "2Ruu7vU0Xqcy"
      },
      "execution_count": null,
      "outputs": []
    },
    {
      "cell_type": "code",
      "source": [
        "train_data.head(5)"
      ],
      "metadata": {
        "id": "eKyVAif9eX1n",
        "colab": {
          "base_uri": "https://localhost:8080/",
          "height": 206
        },
        "outputId": "cc0d4744-ecc4-4337-b9e7-48c91cedcc0a"
      },
      "execution_count": null,
      "outputs": [
        {
          "output_type": "execute_result",
          "data": {
            "text/plain": [
              "   label         ids                          date         username  \\\n",
              "0      0  1467810369  Mon Apr 06 22:19:45 PDT 2009  _TheSpecialOne_   \n",
              "1      0  1467810672  Mon Apr 06 22:19:49 PDT 2009    scotthamilton   \n",
              "2      0  1467810917  Mon Apr 06 22:19:53 PDT 2009         mattycus   \n",
              "3      0  1467811184  Mon Apr 06 22:19:57 PDT 2009          ElleCTF   \n",
              "4      0  1467811193  Mon Apr 06 22:19:57 PDT 2009           Karoli   \n",
              "\n",
              "                                                text  \n",
              "0  @switchfoot http://twitpic.com/2y1zl - Awww, t...  \n",
              "1  is upset that he can't update his Facebook by ...  \n",
              "2  @Kenichan I dived many times for the ball. Man...  \n",
              "3    my whole body feels itchy and like its on fire   \n",
              "4  @nationwideclass no, it's not behaving at all....  "
            ],
            "text/html": [
              "\n",
              "  <div id=\"df-6b216601-39ec-443c-b06c-404b4d342570\">\n",
              "    <div class=\"colab-df-container\">\n",
              "      <div>\n",
              "<style scoped>\n",
              "    .dataframe tbody tr th:only-of-type {\n",
              "        vertical-align: middle;\n",
              "    }\n",
              "\n",
              "    .dataframe tbody tr th {\n",
              "        vertical-align: top;\n",
              "    }\n",
              "\n",
              "    .dataframe thead th {\n",
              "        text-align: right;\n",
              "    }\n",
              "</style>\n",
              "<table border=\"1\" class=\"dataframe\">\n",
              "  <thead>\n",
              "    <tr style=\"text-align: right;\">\n",
              "      <th></th>\n",
              "      <th>label</th>\n",
              "      <th>ids</th>\n",
              "      <th>date</th>\n",
              "      <th>username</th>\n",
              "      <th>text</th>\n",
              "    </tr>\n",
              "  </thead>\n",
              "  <tbody>\n",
              "    <tr>\n",
              "      <th>0</th>\n",
              "      <td>0</td>\n",
              "      <td>1467810369</td>\n",
              "      <td>Mon Apr 06 22:19:45 PDT 2009</td>\n",
              "      <td>_TheSpecialOne_</td>\n",
              "      <td>@switchfoot http://twitpic.com/2y1zl - Awww, t...</td>\n",
              "    </tr>\n",
              "    <tr>\n",
              "      <th>1</th>\n",
              "      <td>0</td>\n",
              "      <td>1467810672</td>\n",
              "      <td>Mon Apr 06 22:19:49 PDT 2009</td>\n",
              "      <td>scotthamilton</td>\n",
              "      <td>is upset that he can't update his Facebook by ...</td>\n",
              "    </tr>\n",
              "    <tr>\n",
              "      <th>2</th>\n",
              "      <td>0</td>\n",
              "      <td>1467810917</td>\n",
              "      <td>Mon Apr 06 22:19:53 PDT 2009</td>\n",
              "      <td>mattycus</td>\n",
              "      <td>@Kenichan I dived many times for the ball. Man...</td>\n",
              "    </tr>\n",
              "    <tr>\n",
              "      <th>3</th>\n",
              "      <td>0</td>\n",
              "      <td>1467811184</td>\n",
              "      <td>Mon Apr 06 22:19:57 PDT 2009</td>\n",
              "      <td>ElleCTF</td>\n",
              "      <td>my whole body feels itchy and like its on fire</td>\n",
              "    </tr>\n",
              "    <tr>\n",
              "      <th>4</th>\n",
              "      <td>0</td>\n",
              "      <td>1467811193</td>\n",
              "      <td>Mon Apr 06 22:19:57 PDT 2009</td>\n",
              "      <td>Karoli</td>\n",
              "      <td>@nationwideclass no, it's not behaving at all....</td>\n",
              "    </tr>\n",
              "  </tbody>\n",
              "</table>\n",
              "</div>\n",
              "      <button class=\"colab-df-convert\" onclick=\"convertToInteractive('df-6b216601-39ec-443c-b06c-404b4d342570')\"\n",
              "              title=\"Convert this dataframe to an interactive table.\"\n",
              "              style=\"display:none;\">\n",
              "        \n",
              "  <svg xmlns=\"http://www.w3.org/2000/svg\" height=\"24px\"viewBox=\"0 0 24 24\"\n",
              "       width=\"24px\">\n",
              "    <path d=\"M0 0h24v24H0V0z\" fill=\"none\"/>\n",
              "    <path d=\"M18.56 5.44l.94 2.06.94-2.06 2.06-.94-2.06-.94-.94-2.06-.94 2.06-2.06.94zm-11 1L8.5 8.5l.94-2.06 2.06-.94-2.06-.94L8.5 2.5l-.94 2.06-2.06.94zm10 10l.94 2.06.94-2.06 2.06-.94-2.06-.94-.94-2.06-.94 2.06-2.06.94z\"/><path d=\"M17.41 7.96l-1.37-1.37c-.4-.4-.92-.59-1.43-.59-.52 0-1.04.2-1.43.59L10.3 9.45l-7.72 7.72c-.78.78-.78 2.05 0 2.83L4 21.41c.39.39.9.59 1.41.59.51 0 1.02-.2 1.41-.59l7.78-7.78 2.81-2.81c.8-.78.8-2.07 0-2.86zM5.41 20L4 18.59l7.72-7.72 1.47 1.35L5.41 20z\"/>\n",
              "  </svg>\n",
              "      </button>\n",
              "      \n",
              "  <style>\n",
              "    .colab-df-container {\n",
              "      display:flex;\n",
              "      flex-wrap:wrap;\n",
              "      gap: 12px;\n",
              "    }\n",
              "\n",
              "    .colab-df-convert {\n",
              "      background-color: #E8F0FE;\n",
              "      border: none;\n",
              "      border-radius: 50%;\n",
              "      cursor: pointer;\n",
              "      display: none;\n",
              "      fill: #1967D2;\n",
              "      height: 32px;\n",
              "      padding: 0 0 0 0;\n",
              "      width: 32px;\n",
              "    }\n",
              "\n",
              "    .colab-df-convert:hover {\n",
              "      background-color: #E2EBFA;\n",
              "      box-shadow: 0px 1px 2px rgba(60, 64, 67, 0.3), 0px 1px 3px 1px rgba(60, 64, 67, 0.15);\n",
              "      fill: #174EA6;\n",
              "    }\n",
              "\n",
              "    [theme=dark] .colab-df-convert {\n",
              "      background-color: #3B4455;\n",
              "      fill: #D2E3FC;\n",
              "    }\n",
              "\n",
              "    [theme=dark] .colab-df-convert:hover {\n",
              "      background-color: #434B5C;\n",
              "      box-shadow: 0px 1px 3px 1px rgba(0, 0, 0, 0.15);\n",
              "      filter: drop-shadow(0px 1px 2px rgba(0, 0, 0, 0.3));\n",
              "      fill: #FFFFFF;\n",
              "    }\n",
              "  </style>\n",
              "\n",
              "      <script>\n",
              "        const buttonEl =\n",
              "          document.querySelector('#df-6b216601-39ec-443c-b06c-404b4d342570 button.colab-df-convert');\n",
              "        buttonEl.style.display =\n",
              "          google.colab.kernel.accessAllowed ? 'block' : 'none';\n",
              "\n",
              "        async function convertToInteractive(key) {\n",
              "          const element = document.querySelector('#df-6b216601-39ec-443c-b06c-404b4d342570');\n",
              "          const dataTable =\n",
              "            await google.colab.kernel.invokeFunction('convertToInteractive',\n",
              "                                                     [key], {});\n",
              "          if (!dataTable) return;\n",
              "\n",
              "          const docLinkHtml = 'Like what you see? Visit the ' +\n",
              "            '<a target=\"_blank\" href=https://colab.research.google.com/notebooks/data_table.ipynb>data table notebook</a>'\n",
              "            + ' to learn more about interactive tables.';\n",
              "          element.innerHTML = '';\n",
              "          dataTable['output_type'] = 'display_data';\n",
              "          await google.colab.output.renderOutput(dataTable, element);\n",
              "          const docLink = document.createElement('div');\n",
              "          docLink.innerHTML = docLinkHtml;\n",
              "          element.appendChild(docLink);\n",
              "        }\n",
              "      </script>\n",
              "    </div>\n",
              "  </div>\n",
              "  "
            ]
          },
          "metadata": {},
          "execution_count": 19
        }
      ]
    },
    {
      "cell_type": "code",
      "source": [
        "data = pd.read_excel('/content/gdrive/MyDrive/Colab Notebooks/practice.xlsx')"
      ],
      "metadata": {
        "id": "pXFzoCEVi-zj"
      },
      "execution_count": null,
      "outputs": []
    },
    {
      "cell_type": "code",
      "source": [
        "data['clean'] = data.apply(lambda row: tokenize(line=row['text'], stopwords=stopwords, stem=True), axis=1)"
      ],
      "metadata": {
        "id": "Fuife_6fjEaj"
      },
      "execution_count": null,
      "outputs": []
    },
    {
      "cell_type": "markdown",
      "source": [
        "##w2v"
      ],
      "metadata": {
        "id": "1P3FJUburelg"
      }
    },
    {
      "cell_type": "code",
      "source": [
        "all_sentences = []\n",
        "for row in train_data['clean']:\n",
        "    all_sentences.append(list(row))\n"
      ],
      "metadata": {
        "id": "vdLv3IrFjNmZ"
      },
      "execution_count": null,
      "outputs": []
    },
    {
      "cell_type": "code",
      "source": [
        "for row in data['clean']:\n",
        "    all_sentences.append(list(row))"
      ],
      "metadata": {
        "id": "eQ3hM4xeje51"
      },
      "execution_count": null,
      "outputs": []
    },
    {
      "cell_type": "code",
      "source": [
        "model_0624122 = gensim.models.Word2Vec(sentences = all_sentences, min_count = 2,size = 100, window = 5, sg=0) "
      ],
      "metadata": {
        "id": "C2UXmaGvlZl1"
      },
      "execution_count": null,
      "outputs": []
    },
    {
      "cell_type": "code",
      "source": [
        "model_0624122.save(\"/content/gdrive/MyDrive/Colab Notebooks/praxis_twi140_min2_size100_window5.model\")"
      ],
      "metadata": {
        "id": "_2C62PxklzUy"
      },
      "execution_count": null,
      "outputs": []
    },
    {
      "cell_type": "markdown",
      "source": [
        "##load"
      ],
      "metadata": {
        "id": "QydRyOleraqu"
      }
    },
    {
      "cell_type": "code",
      "source": [
        "from gensim.models import Word2Vec\n",
        "model_0624122 = Word2Vec.load(\"/content/gdrive/MyDrive/Colab Notebooks/praxis_twi140_min2_size100_window5.model\")"
      ],
      "metadata": {
        "id": "l0i-mZAnrRRV"
      },
      "execution_count": null,
      "outputs": []
    },
    {
      "cell_type": "code",
      "source": [
        "def list_to_vec(tokens):\n",
        "  matrix = []\n",
        "  for word in tokens:\n",
        "    if word in model_0624122:\n",
        "      vec = model_0624122[word]\n",
        "      matrix.append(vec)\n",
        "  return matrix"
      ],
      "metadata": {
        "id": "te9Mj-XZmhK3"
      },
      "execution_count": null,
      "outputs": []
    },
    {
      "cell_type": "code",
      "source": [
        "data['vectors'] = data['clean'].apply(list_to_vec)"
      ],
      "metadata": {
        "id": "bp_Im3pgnElF"
      },
      "execution_count": null,
      "outputs": []
    },
    {
      "cell_type": "code",
      "source": [
        "data.head()"
      ],
      "metadata": {
        "id": "MOd1ueXHnZpE"
      },
      "execution_count": null,
      "outputs": []
    },
    {
      "cell_type": "code",
      "source": [
        "data.to_pickle('/content/gdrive/MyDrive/slgCsv/praxis_vec_0624.pickle')"
      ],
      "metadata": {
        "id": "WCsUZLwQnz8b"
      },
      "execution_count": null,
      "outputs": []
    },
    {
      "cell_type": "code",
      "source": [
        "train_data['vectors'] = train_data['clean'].apply(list_to_vec)"
      ],
      "metadata": {
        "id": "Lq2_pl0eoE7M"
      },
      "execution_count": null,
      "outputs": []
    },
    {
      "cell_type": "code",
      "source": [
        "train_data.to_pickle('/content/gdrive/MyDrive/slgCsv/twi140_vec_0624.pickle')"
      ],
      "metadata": {
        "id": "wJg5kFvcoKfM"
      },
      "execution_count": null,
      "outputs": []
    },
    {
      "cell_type": "code",
      "source": [
        "from IPython.display import Image\n",
        "import graphviz\n",
        "from graphviz import Digraph\n",
        "from graphviz import Source"
      ],
      "metadata": {
        "id": "bnYu7JtGi-xE"
      },
      "execution_count": null,
      "outputs": []
    },
    {
      "cell_type": "code",
      "source": [
        "cbow = '''digraph G {\n",
        "  compound = true;\n",
        "  splines = false;\n",
        "\trankdir = LR\n",
        "  subgraph claster1{\n",
        "    label=\"input\"\n",
        "    in1 [shape=record, width=.1, height=.4, label=\"<f1>|<f2>|<f3>|<f4>\"]\n",
        "    in2 [shape=record, width=.1, height=.4, label=\"<f1>|<f2>|<f3>|<f4>\"]\n",
        "    in3 [shape=record, width=.1, height=.4, label=\"<f1>|<f2>|<f3>|<f4>\"]\n",
        "  }\n",
        "  subgraph claster2{\n",
        "    label=\"hidden\"\n",
        "    h [shape=record, width=.1, height=.3, label=\"<f1>|<f2>|<f3>\"]\n",
        "  }\n",
        "  \n",
        "  subgraph claster3{\n",
        "    label=\"output\"\n",
        "    ot1 [shape=record, width=.1, height=.4, label=\"<f1>|<f2>|<f3>|<f4>\"]\n",
        "  }\n",
        "  \n",
        "  \"in1\":f1 -> \"h\":f1\n",
        "  \"in1\":f4 -> \"h\":f3\n",
        "  \"in2\":f1 -> \"h\":f1\n",
        "  \"in2\":f4 -> \"h\":f3\n",
        "  \"in3\":f1 -> \"h\":f1\n",
        "  \"in3\":f4 -> \"h\":f3\n",
        "\n",
        "  \"h\":f1 -> \"ot1\":f1\n",
        "  \"h\":f3 -> \"ot1\":f4\n",
        "\n",
        "\n",
        "}'''\n",
        "\n",
        "dot = Source(cbow)\n",
        "\n",
        "dot.format='png'\n",
        "dot.render('neural_02', view=True)\n",
        "Image('neural_02.png')"
      ],
      "metadata": {
        "colab": {
          "base_uri": "https://localhost:8080/",
          "height": 448
        },
        "id": "13vCgUR1isDN",
        "outputId": "baac0501-3090-418a-efd3-65797fa20ae1"
      },
      "execution_count": null,
      "outputs": [
        {
          "output_type": "execute_result",
          "data": {
            "text/plain": [
              "<IPython.core.display.Image object>"
            ],
            "image/png": "[encoded data removed]"
          },
          "metadata": {},
          "execution_count": 35
        }
      ]
    },
    {
      "cell_type": "markdown",
      "source": [
        "#rnn"
      ],
      "metadata": {
        "id": "x77ugE8Q9yMi"
      }
    },
    {
      "cell_type": "code",
      "source": [
        "import torch\n",
        "import torch.nn as nn\n",
        "import torch.nn.functional as F\n",
        "import torch.optim as optim\n",
        "import torchvision.transforms as transforms\n",
        "from torch.utils.data import Dataset, DataLoader \n",
        "\n",
        "import matplotlib.pyplot as plt\n",
        "import tensorflow as tf\n",
        "\n",
        "from IPython.display import display\n",
        "from PIL import Image\n",
        "import random\n",
        "import pickle\n",
        "import pathlib"
      ],
      "metadata": {
        "id": "ybeQavq3_8U7"
      },
      "execution_count": null,
      "outputs": []
    },
    {
      "cell_type": "code",
      "source": [
        "'''class TrainData(Dataset):\n",
        "  def __init__(self, dataframe, transform=None):\n",
        "    self.dataframe = dataframe\n",
        "    #self.transform = transform\n",
        "    self.length = len(dataframe)\n",
        "    vectors = self.dataframe['vectors']\n",
        "    label = self.dataframe['label']\n",
        "\n",
        "    self.vectors_train=torch.tensor(vectors,dtype=torch.float32)\n",
        "    self.label_train=torch.tensor(label,dtype=torch.float32)\n",
        "  def __len__(self):\n",
        "    return self.length\n",
        "\n",
        "  def __getitem__(self, index):\n",
        "\n",
        "    #if self.transform: \n",
        "    #  vectors = self.transform(vectors)\n",
        "    return self.vectors_train[index], self.label_train[index]\n",
        "'''"
      ],
      "metadata": {
        "id": "S_NxkPq89vVZ"
      },
      "execution_count": null,
      "outputs": []
    },
    {
      "cell_type": "code",
      "source": [
        "class TrainData(Dataset):\n",
        "  def __init__(self, dataframe, transform=None):\n",
        "    self.dataframe = dataframe\n",
        "    self.transform = transform\n",
        "    self.length = len(dataframe)\n",
        "\n",
        "  def __len__(self):\n",
        "    return self.length\n",
        "\n",
        "  def __getitem__(self, index):\n",
        "    vectors = self.dataframe['vectors'][index]\n",
        "    label = self.dataframe['label'][index]\n",
        "    if self.transform: \n",
        "      vectors = self.transform(vectors)\n",
        "    return vectors, label"
      ],
      "metadata": {
        "id": "MITxITpmPbTD"
      },
      "execution_count": null,
      "outputs": []
    },
    {
      "cell_type": "code",
      "source": [
        "class lstm(nn.Module):\n",
        "  def __init__(self, dimension, hidden_size, layers, drop_rate=0.1):\n",
        "      super(lstm, self).__init__()\n",
        "      self.name = 'LSTM'\n",
        "      self.rnn = nn.LSTM( # pytorch官方的LSTM\n",
        "          input_size=dimension, # 输入特征数（词嵌入的维数\n",
        "          hidden_size=hidden_size, # 隐藏层大小\n",
        "          num_layers=layers, # 层数\n",
        "          dropout=drop_rate, # （每个LSTM层）dropout率 以防过拟合\n",
        "          )\n",
        "      self.decoder = nn.Sequential(\n",
        "          nn.Linear(hidden_size*2, hidden_size),\n",
        "          #nn.ReLU(),\n",
        "          nn.Linear(hidden_size, 2),\n",
        "      )\n",
        "\n",
        "      self.h_0 = None # initial hidden state\n",
        "      self.c_0 = None # initial cell state\n",
        "\n",
        "  def forward(self, x):\n",
        "    out, (h_n, c_n) = self.rnn(x) #h_n, c_n: final hidden and cell states\n",
        "    out = self.decoder(out)\n",
        "    #out = self.decoder(torch.cat(out[0], out[-1]), dim=1)\n",
        "    return out"
      ],
      "metadata": {
        "id": "8ux-E3y2A58R"
      },
      "execution_count": null,
      "outputs": []
    },
    {
      "cell_type": "code",
      "source": [
        "def evaluate(model, testloader): \n",
        "    error = 0\n",
        "    length = 0\n",
        "    for vectors, labels in testloader: \n",
        "        # pos和neg两种的话\n",
        "        error += int(((model(vectors) > 0).squeeze() != labels).sum())       \n",
        "        # pos neg neutral\n",
        "        # error = \n",
        "        length += len(labels)\n",
        "    print(error)\n",
        "    return float(error) / length"
      ],
      "metadata": {
        "id": "2xOci9wgb2ib"
      },
      "execution_count": null,
      "outputs": []
    },
    {
      "cell_type": "markdown",
      "source": [
        "## train"
      ],
      "metadata": {
        "id": "6CRxjuCKB5qR"
      }
    },
    {
      "cell_type": "code",
      "source": [
        "#load training data from the pickle just written\n",
        "data = pd.read_pickle('/content/gdrive/MyDrive/Colab Notebooks/twi140_vec_0624.pickle')"
      ],
      "metadata": {
        "id": "wj0IMVc6HWga"
      },
      "execution_count": null,
      "outputs": []
    },
    {
      "cell_type": "code",
      "source": [
        "data"
      ],
      "metadata": {
        "id": "jYkKb47iCJXr"
      },
      "execution_count": null,
      "outputs": []
    },
    {
      "cell_type": "code",
      "source": [
        "# 不要运行多次\n",
        "data['label'] = data['label'].apply(lambda x: int(x/2.0)-1)"
      ],
      "metadata": {
        "id": "BXbmHDF0gdO_"
      },
      "execution_count": null,
      "outputs": []
    },
    {
      "cell_type": "code",
      "source": [
        "data"
      ],
      "metadata": {
        "id": "EVyDS4fXAnEC"
      },
      "execution_count": null,
      "outputs": []
    },
    {
      "cell_type": "code",
      "source": [
        "# divide dataframe into training evaluating and testing, normalize labels\n",
        "np_data = data.to_numpy()\n",
        "print(type(np_data))\n",
        "np.random.seed(1000)\n",
        "np.random.shuffle(np_data)"
      ],
      "metadata": {
        "id": "dScEtDAd519R",
        "colab": {
          "base_uri": "https://localhost:8080/"
        },
        "outputId": "49bd41f6-6210-42ee-efff-c27d3070261f"
      },
      "execution_count": null,
      "outputs": [
        {
          "output_type": "stream",
          "name": "stdout",
          "text": [
            "<class 'numpy.ndarray'>\n"
          ]
        }
      ]
    },
    {
      "cell_type": "code",
      "source": [
        "data1 = np_data[:500]"
      ],
      "metadata": {
        "id": "63YSJckhAvdb"
      },
      "execution_count": null,
      "outputs": []
    },
    {
      "cell_type": "code",
      "source": [
        "from sklearn.utils import shuffle\n",
        "data1 = shuffle(data)"
      ],
      "metadata": {
        "id": "7O5zhYq3A3B1"
      },
      "execution_count": null,
      "outputs": []
    },
    {
      "cell_type": "code",
      "source": [
        "data1 = data1[:500]"
      ],
      "metadata": {
        "id": "AT-KNq6yBfEU"
      },
      "execution_count": null,
      "outputs": []
    },
    {
      "cell_type": "code",
      "source": [
        "data1.to_pickle('/content/gdrive/MyDrive/twi140_vec_first500_0629.pickle')"
      ],
      "metadata": {
        "id": "QvMiHPm3Bjfj"
      },
      "execution_count": null,
      "outputs": []
    },
    {
      "cell_type": "code",
      "source": [
        "data1 = data1.reset_index(drop=True)"
      ],
      "metadata": {
        "id": "rXN1PyZnC2Ia"
      },
      "execution_count": null,
      "outputs": []
    },
    {
      "cell_type": "code",
      "source": [
        "data1"
      ],
      "metadata": {
        "id": "PneTerQDD1nK"
      },
      "execution_count": null,
      "outputs": []
    },
    {
      "cell_type": "code",
      "source": [
        "# 用前500试一下\n",
        "train_data = np_data[:400]\n",
        "val_data = np_data[400:450]\n",
        "test_data = np_data[450:500]"
      ],
      "metadata": {
        "id": "IbMEMZ7phUbD"
      },
      "execution_count": null,
      "outputs": []
    },
    {
      "cell_type": "code",
      "source": [
        "def train(size_in, hidden_size, layers, drop=0.1, bs=32, lr=0.001, num_epochs = 10):    \n",
        "    model = lstm(size_in, hidden_size, layers, drop)\n",
        "    torch.manual_seed(1000)\n",
        "\n",
        "    train_dataset = TrainData(train_data, transform=transforms.ToTensor())\n",
        "    train_loader = DataLoader(train_dataset, batch_size=bs, shuffle=True)\n",
        "    val_dataset = TrainData(val_data, transform=transforms.ToTensor())\n",
        "    val_loader = DataLoader(val_dataset, batch_size=bs, shuffle=True)\n",
        "\n",
        "    criterion = nn.BCEWithLogitsLoss()\n",
        "    optimizer = optim.Adam(model.parameters(), lr=lr)\n",
        "\n",
        "    model_path = pathlib.Path(f\"/content/drive/MyDrive/APS360/Models/malaria_corrected_bs{bs}_lr{lr}\")\n",
        "    model_path.mkdir(parents=True, exist_ok=True)\n",
        "    # model.cuda()\n",
        "\n",
        "    train_loss = np.zeros(num_epochs)\n",
        "    val_error = np.zeros(num_epochs)\n",
        "    n = len(train_loader)\n",
        "\n",
        "    for epoch in range(num_epochs):\n",
        "        epoch_loss = 0 \n",
        "        for vectors, labels in train_loader: \n",
        "            labels = labels.unsqueeze(1).float()\n",
        "            outputs = model(vectors)\n",
        "            #loss_value = loss(outputs, labels)\n",
        "            loss = criterion(outputs, labels)\n",
        "            optimizer.zero_grad()\n",
        "            loss.backward()\n",
        "            optimizer.step()\n",
        "\n",
        "            epoch_loss += loss.item()\n",
        "\n",
        "        train_loss[epoch] = epoch_loss / n\n",
        "        val_error[epoch] = evaluate(model, val_loader)\n",
        "        #print validation error\n",
        "        print(f\"Epoch {epoch+1}/{num_epochs}, Loss: {loss.item():.6f}, Validation Error: {val_error[epoch]:.6f}\")\n",
        "\n",
        "        torch.save(model.state_dict(), model_path / f\"epoch_{epoch+1}\")\n",
        "\n",
        "    return model_path"
      ],
      "metadata": {
        "id": "H0523jqQ5IZg"
      },
      "execution_count": null,
      "outputs": []
    },
    {
      "cell_type": "code",
      "source": [],
      "metadata": {
        "id": "wE92SZlhZ35Y"
      },
      "execution_count": null,
      "outputs": []
    },
    {
      "cell_type": "code",
      "source": [
        "train(100, 20, 2)"
      ],
      "metadata": {
        "id": "AWA-6FlbO-vg"
      },
      "execution_count": null,
      "outputs": []
    }
  ]
}